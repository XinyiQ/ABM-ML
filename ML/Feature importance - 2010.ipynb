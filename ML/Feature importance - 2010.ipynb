{
 "cells": [
  {
   "cell_type": "code",
   "execution_count": 1,
   "metadata": {},
   "outputs": [],
   "source": [
    "import numpy as np\n",
    "import matplotlib.pyplot as plt\n",
    "import pandas as pd\n",
    "from sklearn.linear_model import LinearRegression\n",
    "from sklearn.metrics import r2_score\n",
    "from sklearn.model_selection import train_test_split\n",
    "from osgeo import gdal_array\n",
    "from osgeo import gdal\n",
    "from sklearn.ensemble import RandomForestClassifier\n",
    "from sklearn.ensemble import RandomForestRegressor"
   ]
  },
  {
   "cell_type": "code",
   "execution_count": 2,
   "metadata": {},
   "outputs": [],
   "source": [
    "output2010 = pd.read_csv(r'C:\\ITC\\ABM\\CASE STUDY_\\TRY\\tick_2010_new.csv', header=None)\n",
    "array2010 = output2010.to_numpy()\n",
    "array2010[np.isnan(array2010)] = 0"
   ]
  },
  {
   "cell_type": "code",
   "execution_count": 3,
   "metadata": {},
   "outputs": [],
   "source": [
    "Y = array2010[:,0] # Y is patch_bite_count\n",
    "X = array2010[:,1:] # X are 9 variables, which are PBC, landuse,PAC, Tick_abundance, Working, Gardening, Picnic, Hiking, Playing, Sunbathing\n"
   ]
  },
  {
   "cell_type": "code",
   "execution_count": 4,
   "metadata": {},
   "outputs": [
    {
     "name": "stdout",
     "output_type": "stream",
     "text": [
      "LM:  0.26799902936378206\n"
     ]
    }
   ],
   "source": [
    "xtrain, xtest, ytrain, ytest = train_test_split(X, Y, test_size=0.3, train_size=0.7)\n",
    "# Use linear regression to investigate the importance of the given parameters\n",
    "lm = LinearRegression( fit_intercept=True, normalize=False, copy_X=True, n_jobs=1 )\n",
    "lm.fit(xtrain, ytrain)\n",
    "ypred = lm.predict(xtest)\n",
    "print(\"LM: \", r2_score(ytest, ypred))"
   ]
  },
  {
   "cell_type": "code",
   "execution_count": 5,
   "metadata": {},
   "outputs": [
    {
     "name": "stdout",
     "output_type": "stream",
     "text": [
      "Feature ranking:\n",
      "1. feature 2 (0.336741)\n",
      "2. feature 1 (0.173816)\n",
      "3. feature 4 (0.093664)\n",
      "4. feature 8 (0.091188)\n",
      "5. feature 5 (0.087310)\n",
      "6. feature 7 (0.082873)\n",
      "7. feature 6 (0.082500)\n",
      "8. feature 0 (0.051907)\n",
      "9. feature 3 (0.000000)\n"
     ]
    },
    {
     "data": {
      "image/png": "[encoded data removed]",
      "text/plain": [
       "<Figure size 432x288 with 1 Axes>"
      ]
     },
     "metadata": {
      "needs_background": "light"
     },
     "output_type": "display_data"
    }
   ],
   "source": [
    "rf = RandomForestRegressor(\n",
    "    n_estimators=100, \n",
    "    criterion=\"mse\", \n",
    "    max_depth=None, \n",
    "    max_features=\"auto\", \n",
    "    bootstrap=True, \n",
    "    min_samples_split=2, \n",
    "    n_jobs=1) \n",
    "rf.fit(xtrain, ytrain) \n",
    "importances = rf.feature_importances_\n",
    "std = np.std([tree.feature_importances_ for tree in rf.estimators_],\n",
    "             axis=0)\n",
    "indices = np.argsort(importances)[::-1]\n",
    "\n",
    "# Print the feature ranking\n",
    "print(\"Feature ranking:\")\n",
    "\n",
    "for f in range(xtrain.shape[1]):\n",
    "    print(\"%d. feature %d (%f)\" % (f + 1, indices[f], importances[indices[f]]))\n",
    "\n",
    "# Plot the feature importances of the forest\n",
    "plt.figure()\n",
    "plt.title(\"Feature importances\")\n",
    "plt.bar(range(xtrain.shape[1]), importances[indices],\n",
    "       color=\"r\", yerr=std[indices], align=\"center\")\n",
    "plt.xticks(range(xtrain.shape[1]), indices)\n",
    "plt.xlim([-1, xtrain.shape[1]])\n",
    "plt.show()"
   ]
  },
  {
   "cell_type": "code",
   "execution_count": 6,
   "metadata": {},
   "outputs": [
    {
     "name": "stdout",
     "output_type": "stream",
     "text": [
      "LM:  0.04139963141553238\n"
     ]
    }
   ],
   "source": [
    "# Here we only consider human activites which would make people be bitten, to get the feature importance of each activity.\n",
    "Y2 = array2010[:,0] # Using patch_bite_count as train model.\n",
    "X2 = array2010[:,4:] # Using human activities as test model. Human activities which affect people being bitten, which are Working, Gardening, Picnic, Hiking, Playing, Sunbathing\n",
    "x2train, x2test, y2train, y2test = train_test_split(X2, Y2, test_size=0.3, train_size=0.7) \n",
    "lm = LinearRegression( fit_intercept=True, normalize=False, copy_X=True, n_jobs=1 )\n",
    "lm.fit(x2train, y2train)\n",
    "y2pred = lm.predict(x2test)\n",
    "print(\"LM: \", r2_score(y2test, y2pred))"
   ]
  },
  {
   "cell_type": "code",
   "execution_count": 7,
   "metadata": {},
   "outputs": [
    {
     "name": "stdout",
     "output_type": "stream",
     "text": [
      "Feature ranking:\n",
      "1. feature 5 (0.222177)\n",
      "2. feature 1 (0.204469)\n",
      "3. feature 4 (0.199089)\n",
      "4. feature 2 (0.188169)\n",
      "5. feature 3 (0.186096)\n",
      "6. feature 0 (0.000000)\n"
     ]
    },
    {
     "data": {
      "image/png": "[encoded data removed]",
      "text/plain": [
       "<Figure size 432x288 with 1 Axes>"
      ]
     },
     "metadata": {
      "needs_background": "light"
     },
     "output_type": "display_data"
    }
   ],
   "source": [
    "rf2 = RandomForestRegressor(\n",
    "    n_estimators=100, \n",
    "    criterion=\"mse\", \n",
    "    max_depth=None, \n",
    "    max_features=\"auto\", \n",
    "    bootstrap=True, \n",
    "    min_samples_split=2, \n",
    "    n_jobs=1) \n",
    "rf2.fit(x2train, y2train) \n",
    "importances = rf2.feature_importances_\n",
    "std2 = np.std([tree.feature_importances_ for tree in rf.estimators_],\n",
    "             axis=0)\n",
    "indices = np.argsort(importances)[::-1]\n",
    "\n",
    "# Print the feature ranking\n",
    "print(\"Feature ranking:\")\n",
    "\n",
    "for f in range(x2train.shape[1]):\n",
    "    print(\"%d. feature %d (%f)\" % (f + 1, indices[f], importances[indices[f]]))\n",
    "\n",
    "# Plot the feature importances of the forest\n",
    "plt.figure()\n",
    "plt.title(\"Feature importances\")\n",
    "plt.bar(range(x2train.shape[1]), importances[indices],\n",
    "       color=\"r\", yerr=std2[indices], align=\"center\")\n",
    "plt.xticks(range(x2train.shape[1]), indices)\n",
    "plt.xlim([-1, x2train.shape[1]])\n",
    "plt.show()"
   ]
  }
 ],
 "metadata": {
  "kernelspec": {
   "display_name": "Python 3",
   "language": "python",
   "name": "python3"
  },
  "language_info": {
   "codemirror_mode": {
    "name": "ipython",
    "version": 3
   },
   "file_extension": ".py",
   "mimetype": "text/x-python",
   "name": "python",
   "nbconvert_exporter": "python",
   "pygments_lexer": "ipython3",
   "version": "3.6.7"
  }
 },
 "nbformat": 4,
 "nbformat_minor": 2
}
