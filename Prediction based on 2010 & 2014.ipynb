{
 "cells": [
  {
   "cell_type": "code",
   "execution_count": 1,
   "metadata": {},
   "outputs": [],
   "source": [
    "import numpy as np\n",
    "import matplotlib.pyplot as plt\n",
    "import pandas as pd\n",
    "from sklearn.linear_model import LinearRegression\n",
    "from sklearn.metrics import r2_score\n",
    "from sklearn.model_selection import train_test_split\n",
    "from osgeo import gdal_array\n",
    "from osgeo import gdal\n",
    "from sklearn.ensemble import RandomForestClassifier\n",
    "from sklearn.ensemble import RandomForestRegressor"
   ]
  },
  {
   "cell_type": "code",
   "execution_count": 135,
   "metadata": {},
   "outputs": [],
   "source": [
    "output2010 = pd.read_csv(r'C:\\ITC\\ABM\\CASE STUDY_\\TRY\\tick_2010_new.csv', header=None) # Read the file\n",
    "output2014 = pd.read_csv(r'C:\\ITC\\ABM\\CASE STUDY_\\TRY\\tick2014_new.csv', header=None)\n",
    "array2010 = output2010.to_numpy() # Dataframe to numpy_array\n",
    "array2014 = output2014.to_numpy()\n",
    "array2010[np.isnan(array2010)] = 0 #There is some null value, it is replaced to 0.\n",
    "array2014[np.isnan(array2014)] = 0"
   ]
  },
  {
   "cell_type": "code",
   "execution_count": 136,
   "metadata": {},
   "outputs": [],
   "source": [
    "Xtrain = array2010[:,1:] # The output from ABM of 2010 is used as train model. \n",
    "Xtest = array2014[:,1:]\n",
    "ytrain = array2010[:,0] # The output from ABM of 2014 is used as test model.\n",
    "ytest = array2014[:,0]"
   ]
  },
  {
   "cell_type": "code",
   "execution_count": 137,
   "metadata": {
    "scrolled": true
   },
   "outputs": [
    {
     "name": "stdout",
     "output_type": "stream",
     "text": [
      "LM:  0.28063596483559916\n"
     ]
    }
   ],
   "source": [
    "# Use linear regression to investigate the importance of the given parameters\n",
    "lm = LinearRegression( fit_intercept=True, normalize=False, copy_X=True, n_jobs=1 )\n",
    "lm.fit(Xtrain, ytrain)\n",
    "ypred = lm.predict(Xtest)\n",
    "print(\"LM: \", r2_score(ytest, ypred))"
   ]
  },
  {
   "cell_type": "code",
   "execution_count": 138,
   "metadata": {},
   "outputs": [],
   "source": [
    "from sklearn.ensemble import RandomForestRegressor\n",
    "from sklearn.datasets import make_regression"
   ]
  },
  {
   "cell_type": "code",
   "execution_count": 146,
   "metadata": {},
   "outputs": [],
   "source": [
    "regr = RandomForestRegressor(\n",
    "  n_estimators = 100, #n_estimators : integer, optional (default=10) The number of trees in the forest.\n",
    "  criterion = 'mse', #criterion : string, optional (default=”mse”)\n",
    "#The function to measure the quality of a split.“mse” mean squared error, which is equal to variance reduction as feature selection criterion, and “mae” mean absolute error.\n",
    "  max_depth = None, #The maximum depth of the tree. \n",
    "    #If None, then nodes are expanded until all leaves are pure or until all leaves contain less than min_samples_split samples.\n",
    "  max_features = 'auto', #If “auto”, then max_features=n_features\n",
    "  bootstrap = True,#Whether bootstrap samples are used when building trees. \n",
    "    #If False, the whole datset is used to build each tree.\n",
    "  min_samples_split = 40, #(default=2)\n",
    "  n_jobs = 1 #The number of jobs to run in parallel for both fit and predict.\n",
    ")"
   ]
  },
  {
   "cell_type": "code",
   "execution_count": 147,
   "metadata": {},
   "outputs": [
    {
     "name": "stdout",
     "output_type": "stream",
     "text": [
      "RF:  0.26519845608259474\n"
     ]
    }
   ],
   "source": [
    "regr.fit(Xtrain,ytrain)\n",
    "ypred2 = regr.predict(Xtest)\n",
    "print(\"RF: \", r2_score(ytest,ypred2))"
   ]
  },
  {
   "cell_type": "code",
   "execution_count": 118,
   "metadata": {},
   "outputs": [],
   "source": [
    "np.savetxt('C:/ITC/ABM/CASE STUDY_/TRY/new.csv', ypred2, delimiter = ',')"
   ]
  }
 ],
 "metadata": {
  "kernelspec": {
   "display_name": "Python 3",
   "language": "python",
   "name": "python3"
  },
  "language_info": {
   "codemirror_mode": {
    "name": "ipython",
    "version": 3
   },
   "file_extension": ".py",
   "mimetype": "text/x-python",
   "name": "python",
   "nbconvert_exporter": "python",
   "pygments_lexer": "ipython3",
   "version": "3.6.7"
  }
 },
 "nbformat": 4,
 "nbformat_minor": 2
}
